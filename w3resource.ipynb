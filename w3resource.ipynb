{
 "cells": [
  {
   "cell_type": "markdown",
   "id": "e0c3f9e9-1fbf-4502-9ca1-c4264a49c189",
   "metadata": {},
   "source": [
    "# "
   ]
  },
  {
   "cell_type": "code",
   "execution_count": 26,
   "id": "87567b65-39bb-4742-8b47-825196c64bed",
   "metadata": {
    "scrolled": true
   },
   "outputs": [
    {
     "name": "stdout",
     "output_type": "stream",
     "text": [
      "Twinkle, twinkle, little star, \n",
      " \t How I wonder what you are! \n",
      "   \t    Up above the world so high, \n",
      "   \t    Like a diamond in the sky. \n",
      " Twinkle, twinkle, little star, \n",
      "  \t How I wonder what you are\n"
     ]
    }
   ],
   "source": [
    "print (\"Twinkle, twinkle, little star, \\n \" + \"\\t How I wonder what you are! \\n \" + \"  \\t    Up above the world so high, \\n \"+ \"  \\t    Like a diamond in the sky. \\n \" + \"Twinkle, twinkle, little star, \\n \"+\" \\t How I wonder what you are\")\n",
    " \n",
    "\n",
    "\n",
    "\n",
    "\n",
    "\n",
    "\n",
    "\n",
    "\n"
   ]
  },
  {
   "cell_type": "code",
   "execution_count": 34,
   "id": "70ca5497-0c8c-45c1-afb8-1c85c84f5ebe",
   "metadata": {},
   "outputs": [
    {
     "name": "stdout",
     "output_type": "stream",
     "text": [
      "Current date and time : \n",
      "2024-07-21 02:18:32\n"
     ]
    }
   ],
   "source": [
    "import datetime\n",
    "x = datetime.datetime.now()\n",
    "print (\"Current date and time : \")\n",
    "print(x.strftime(\"%Y-%m-%d %H:%M:%S\"))"
   ]
  },
  {
   "cell_type": "code",
   "execution_count": 38,
   "id": "20bf864b-face-4416-b18e-284186a626c9",
   "metadata": {},
   "outputs": [
    {
     "name": "stdout",
     "output_type": "stream",
     "text": [
      "3.12.4 | packaged by Anaconda, Inc. | (main, Jun 18 2024, 10:14:12) [Clang 14.0.6 ]\n",
      "sys.version_info(major=3, minor=12, micro=4, releaselevel='final', serial=0)\n"
     ]
    }
   ],
   "source": [
    "import sys\n",
    "print(sys.version)\n",
    "print(sys.version_info)"
   ]
  },
  {
   "cell_type": "code",
   "execution_count": 44,
   "id": "89f39401-21e5-42a5-9c76-af90b12e43e0",
   "metadata": {},
   "outputs": [
    {
     "name": "stdin",
     "output_type": "stream",
     "text": [
      "enter radius  9.5\n"
     ]
    },
    {
     "name": "stdout",
     "output_type": "stream",
     "text": [
      " area of circle is 93.7612418103489\n"
     ]
    }
   ],
   "source": [
    "from math import pi \n",
    "r = float(input(\"enter radius \"))\n",
    "area = r * pi**2\n",
    "print(\" area of circle is \" + str(area))"
   ]
  },
  {
   "cell_type": "code",
   "execution_count": 51,
   "id": "1273b1f2-60cb-4749-9890-b355237aeb68",
   "metadata": {},
   "outputs": [
    {
     "name": "stdin",
     "output_type": "stream",
     "text": [
      "enter first name mohamed\n",
      "enter last name yousry\n"
     ]
    },
    {
     "name": "stdout",
     "output_type": "stream",
     "text": [
      "yousry\tmohamed\n"
     ]
    }
   ],
   "source": [
    "first = (input(\"enter first name\"))\n",
    "last = (input(\"enter last name\"))\n",
    "print (str(last) + \"\\t\" + str(first))"
   ]
  },
  {
   "cell_type": "code",
   "execution_count": 2,
   "id": "3047d05b-6ae9-4f4b-a93f-04fa03e72f14",
   "metadata": {},
   "outputs": [
    {
     "name": "stdin",
     "output_type": "stream",
     "text": [
      "enter some values comma-seperated :  4,5,6,7,8,9\n"
     ]
    },
    {
     "name": "stdout",
     "output_type": "stream",
     "text": [
      "['4', '5', '6', '7', '8', '9']\n",
      "('4', '5', '6', '7', '8', '9')\n"
     ]
    }
   ],
   "source": [
    "values = input(\"enter some values comma-seperated : \")\n",
    "list = values.split(\",\")\n",
    "tuple = tuple(list)\n",
    "\n",
    "print (list)\n",
    "print (tuple)"
   ]
  },
  {
   "cell_type": "code",
   "execution_count": 8,
   "id": "b450da6c-85db-4ad2-af30-d89395c792b7",
   "metadata": {},
   "outputs": [
    {
     "name": "stdin",
     "output_type": "stream",
     "text": [
      "enter your file name :  vola\n"
     ]
    }
   ],
   "source": [
    "file_name = input(\"enter your file name : \")"
   ]
  },
  {
   "cell_type": "code",
   "execution_count": 22,
   "id": "59b1196a-e121-4ab8-9c8c-dc15cb32fe07",
   "metadata": {},
   "outputs": [
    {
     "name": "stdin",
     "output_type": "stream",
     "text": [
      "enter six colors with comma seperated :  1,2,3,4,5,6\n"
     ]
    },
    {
     "name": "stdout",
     "output_type": "stream",
     "text": [
      "1\n",
      "6\n"
     ]
    }
   ],
   "source": [
    "color_list = input(\"enter six colors with comma seperated : \")\n",
    "list = color_list.split(\",\") \n",
    "print (list[0])\n",
    "print (list[5])"
   ]
  },
  {
   "cell_type": "code",
   "execution_count": 26,
   "id": "fc10578e-cdf3-4ba6-8af4-36ea1cf21187",
   "metadata": {},
   "outputs": [
    {
     "name": "stdin",
     "output_type": "stream",
     "text": [
      "enter a number 5\n"
     ]
    },
    {
     "name": "stdout",
     "output_type": "stream",
     "text": [
      "155\n"
     ]
    }
   ],
   "source": [
    "num = int(input(\"enter a number\"))\n",
    "print (num + num*num + num*num*num)"
   ]
  },
  {
   "cell_type": "code",
   "execution_count": 36,
   "id": "84f208de-717d-4cab-bffa-2b4aaf9f0593",
   "metadata": {},
   "outputs": [
    {
     "name": "stdin",
     "output_type": "stream",
     "text": [
      "enter a year :  9999\n",
      " enter month :  2\n"
     ]
    },
    {
     "name": "stdout",
     "output_type": "stream",
     "text": [
      "   February 9999\n",
      "Mo Tu We Th Fr Sa Su\n",
      " 1  2  3  4  5  6  7\n",
      " 8  9 10 11 12 13 14\n",
      "15 16 17 18 19 20 21\n",
      "22 23 24 25 26 27 28\n",
      "\n"
     ]
    }
   ],
   "source": [
    "import calendar\n",
    "y = int( input(\"enter a year : \"))\n",
    "m = int(input(\" enter month : \"))\n",
    "print(calendar.month(y,m))"
   ]
  },
  {
   "cell_type": "code",
   "execution_count": 48,
   "id": "a291588b-c8ca-4d57-affb-1909b9110d3e",
   "metadata": {},
   "outputs": [
    {
     "ename": "IndentationError",
     "evalue": "unexpected indent (2055826036.py, line 5)",
     "output_type": "error",
     "traceback": [
      "\u001b[0;36m  Cell \u001b[0;32mIn[48], line 5\u001b[0;36m\u001b[0m\n\u001b[0;31m    print int(delta.days)\u001b[0m\n\u001b[0m    ^\u001b[0m\n\u001b[0;31mIndentationError\u001b[0m\u001b[0;31m:\u001b[0m unexpected indent\n"
     ]
    }
   ],
   "source": [
    "from datetime import date \n",
    "first = date(2024 , 4 , 14)\n",
    "second = date(2024, 8 , 3)\n",
    "delta = second - first\n",
    " print(delta.days)"
   ]
  },
  {
   "cell_type": "code",
   "execution_count": 6,
   "id": "dfde7809-c063-4826-b210-0938dc34e30c",
   "metadata": {},
   "outputs": [
    {
     "data": {
      "text/plain": [
       "types.GenericAlias"
      ]
     },
     "execution_count": 6,
     "metadata": {},
     "output_type": "execute_result"
    }
   ],
   "source": [
    "x = list[1,2,3,4,55,6,6666]\n",
    "type(x)\n"
   ]
  },
  {
   "cell_type": "code",
   "execution_count": 10,
   "id": "ef3c4b6a-a3db-40ea-a1ad-0b38e4eb1149",
   "metadata": {},
   "outputs": [
    {
     "name": "stdin",
     "output_type": "stream",
     "text": [
      "enter a number :  20\n"
     ]
    },
    {
     "name": "stdout",
     "output_type": "stream",
     "text": [
      "the difference : 3\n",
      " twice the value = 6\n"
     ]
    }
   ],
   "source": [
    " x = int(input(\"enter a number : \"))\n",
    " y = 17\n",
    "diff = int(x-y) \n",
    "print (\"the difference : \" +str(diff))\n",
    "if x > 17 :\n",
    "    print (\" twice the value = \" + str(diff*2))\n",
    "\n"
   ]
  },
  {
   "cell_type": "code",
   "execution_count": 18,
   "id": "320b2604-9057-4e4b-b70a-7926c51bc22f",
   "metadata": {},
   "outputs": [
    {
     "name": "stdin",
     "output_type": "stream",
     "text": [
      "write first value :  3\n",
      "write second value :  3\n",
      "write third value :  3\n"
     ]
    },
    {
     "name": "stdout",
     "output_type": "stream",
     "text": [
      "27\n"
     ]
    }
   ],
   "source": [
    "x = int(input(\"write first value : \")) \n",
    "y = int(input(\"write second value : \"))\n",
    "z = int(input(\"write third value : \"))\n",
    "sum = int(x+y+z)\n",
    "\n",
    "if x == y and y == z : 3\n",
    "  print (str(sum * 3))\n"
   ]
  },
  {
   "cell_type": "code",
   "execution_count": 28,
   "id": "d9e97d4c-c53a-4b7f-8736-bd460face115",
   "metadata": {},
   "outputs": [
    {
     "ename": "SyntaxError",
     "evalue": "invalid syntax (2959184830.py, line 2)",
     "output_type": "error",
     "traceback": [
      "\u001b[0;36m  Cell \u001b[0;32mIn[28], line 2\u001b[0;36m\u001b[0m\n\u001b[0;31m    l ={1,2,3,4,5,6,,true,false,9,10}\u001b[0m\n\u001b[0m                    ^\u001b[0m\n\u001b[0;31mSyntaxError\u001b[0m\u001b[0;31m:\u001b[0m invalid syntax\n"
     ]
    }
   ],
   "source": [
    "l = list()\n",
    "l ={1,2,3,4,5,6,,true,false,9,10}"
   ]
  },
  {
   "cell_type": "code",
   "execution_count": 9,
   "id": "2209738e-60c3-4be5-b44e-3e1f1ebdc340",
   "metadata": {},
   "outputs": [
    {
     "name": "stdout",
     "output_type": "stream",
     "text": [
      "the containers : \n",
      "[2, 6, 7, 4, 99, 7, 1]\n",
      "sum of container : \n",
      "126\n"
     ]
    }
   ],
   "source": [
    "x = [2,6,7,4,99,7,1]\n",
    "print('the containers : ')\n",
    "print(x)\n",
    "print (\"sum of container : \")\n",
    "print(sum(x))"
   ]
  },
  {
   "cell_type": "code",
   "execution_count": 23,
   "id": "8fd9d471-0780-4362-8300-159cac69305b",
   "metadata": {},
   "outputs": [
    {
     "name": "stdin",
     "output_type": "stream",
     "text": [
      "enter a number :  2\n"
     ]
    },
    {
     "name": "stdout",
     "output_type": "stream",
     "text": [
      "\n"
     ]
    }
   ],
   "source": [
    "x = int(input(\"enter a number : \"))\n",
    "\n",
    "if x == 1 :\n",
    "    print (\"First day of a Month!\")\n",
    "else :\n",
    "    print()"
   ]
  },
  {
   "cell_type": "code",
   "execution_count": 32,
   "id": "89162f09-daae-494a-b985-c57d60c1f05b",
   "metadata": {},
   "outputs": [
    {
     "name": "stdin",
     "output_type": "stream",
     "text": [
      "enter 1st no. 1\n",
      "enter 2nd no. 2\n"
     ]
    },
    {
     "name": "stdout",
     "output_type": "stream",
     "text": [
      " before swap : \n",
      "a = 1\n",
      "b = 2\n",
      " after swap : \n",
      "a = 2\n",
      "b = 1\n"
     ]
    }
   ],
   "source": [
    "a = int(input(\"enter 1st no.\"))\n",
    "b = int(input(\"enter 2nd no.\"))\n",
    "print (\" before swap : \")\n",
    "print (\"a = \" + str(a))\n",
    "print (\"b = \" + str(b))\n",
    "b,a = a,b\n",
    "print (\" after swap : \")\n",
    "print (\"a = \" + str(a))\n",
    "print (\"b = \" + str(b))\n"
   ]
  },
  {
   "cell_type": "code",
   "execution_count": 39,
   "id": "b9b9fcd2-b6ea-49e7-b26f-f68dd3b62bee",
   "metadata": {},
   "outputs": [
    {
     "ename": "IndentationError",
     "evalue": "unexpected indent (2125229357.py, line 13)",
     "output_type": "error",
     "traceback": [
      "\u001b[0;36m  Cell \u001b[0;32mIn[39], line 13\u001b[0;36m\u001b[0m\n\u001b[0;31m    if n%2 != 0 :\u001b[0m\n\u001b[0m    ^\u001b[0m\n\u001b[0;31mIndentationError\u001b[0m\u001b[0;31m:\u001b[0m unexpected indent\n"
     ]
    }
   ],
   "source": [
    "#!/bin/python3\n",
    "\n",
    "import math\n",
    "import os\n",
    "import random\n",
    "import re\n",
    "import sys\n",
    "\n",
    "\n",
    "\n",
    "if __name__ == '__main__':\n",
    "    n = int(input(\"enter a number\").strip())\n",
    "     if n%2 ! = 0 :\n",
    "         print (\"Weird\")\n",
    "         elif n%2 ==0 and n>= 2 and n<=5 :\n",
    "         print (\"Not weird\")\n",
    "         elif n%2 ==0 and n>= 6 and n<=20 :\n",
    "         print (\" Weird\")\n",
    "         elif n%2 ==0 and n>20 :\n",
    "         print (\"Weird\")\n",
    "         \n",
    "          \n"
   ]
  },
  {
   "cell_type": "code",
   "execution_count": 42,
   "id": "fda8c8a1-54e5-4602-8aad-130af08b48b0",
   "metadata": {},
   "outputs": [
    {
     "ename": "IndentationError",
     "evalue": "unexpected indent (2063455515.py, line 13)",
     "output_type": "error",
     "traceback": [
      "\u001b[0;36m  Cell \u001b[0;32mIn[42], line 13\u001b[0;36m\u001b[0m\n\u001b[0;31m    if n % 2 != 0:\u001b[0m\n\u001b[0m    ^\u001b[0m\n\u001b[0;31mIndentationError\u001b[0m\u001b[0;31m:\u001b[0m unexpected indent\n"
     ]
    }
   ],
   "source": [
    "#!/bin/python3\n",
    "\n",
    "import math\n",
    "import os\n",
    "import random\n",
    "import re\n",
    "import sys\n",
    "\n",
    "\n",
    "\n",
    "if __name__ == '__main__':\n",
    "    n = int(input(\"enter a number\").strip())\n",
    "      if n % 2 != 0:\n",
    "        print(\"Weird\")\n",
    "    elif n % 2 == 0:\n",
    "        if 2 <= n <= 5:\n",
    "            print(\"Not Weird\")\n",
    "        elif 6 <= n <= 20:\n",
    "            print(\"Weird\")\n",
    "        elif n > 20:\n",
    "            print(\"Not Weird\")\n",
    "         \n",
    "          \n",
    "\n"
   ]
  },
  {
   "cell_type": "code",
   "execution_count": 44,
   "id": "7b80b111-7272-4c7a-9fb2-5e96e70eb9e8",
   "metadata": {},
   "outputs": [
    {
     "name": "stdin",
     "output_type": "stream",
     "text": [
      "Enter an integer:  4\n"
     ]
    },
    {
     "name": "stdout",
     "output_type": "stream",
     "text": [
      "Not Weird\n"
     ]
    }
   ],
   "source": [
    "def classify_number(n):\n",
    "    if n % 2 != 0:\n",
    "        print(\"Weird\")\n",
    "    elif n % 2 == 0:\n",
    "        if 2 <= n <= 5:\n",
    "            print(\"Not Weird\")\n",
    "        elif 6 <= n <= 20:\n",
    "            print(\"Weird\")\n",
    "        elif n > 20:\n",
    "            print(\"Not Weird\")\n",
    "\n",
    "# Example usage\n",
    "n = int(input(\"Enter an integer: \"))\n",
    "classify_number(n)\n"
   ]
  },
  {
   "cell_type": "code",
   "execution_count": 6,
   "id": "7743ae43-f623-42b2-a177-ee569a73aa3f",
   "metadata": {},
   "outputs": [
    {
     "data": {
      "text/plain": [
       "' the distance :3.1622776601683795'"
      ]
     },
     "execution_count": 6,
     "metadata": {},
     "output_type": "execute_result"
    }
   ],
   "source": [
    "import math\n",
    "p1 =[0,2]\n",
    "p2 = [1,5]\n",
    "\n",
    "distance =math.sqrt((p2[0]-p1[0])**2 + (p2[1]-p1[1])**2)\n",
    "\" the distance :\" + str(distance)"
   ]
  },
  {
   "cell_type": "code",
   "execution_count": 16,
   "id": "e5887ba5-39fe-4f55-94e2-c39efb151f62",
   "metadata": {},
   "outputs": [
    {
     "name": "stdout",
     "output_type": "stream",
     "text": [
      "292.44\n",
      "292\n"
     ]
    }
   ],
   "source": [
    "n = \" 292.44 \"\n",
    "print (float(n))\n",
    "print (int(float(n)))"
   ]
  },
  {
   "cell_type": "code",
   "execution_count": 40,
   "id": "5ab66984-48d7-4523-b784-14f52e5cd39a",
   "metadata": {},
   "outputs": [
    {
     "name": "stdin",
     "output_type": "stream",
     "text": [
      "enter a number  8\n"
     ]
    },
    {
     "name": "stdout",
     "output_type": "stream",
     "text": [
      "the factorial of 8 : 40320\n"
     ]
    }
   ],
   "source": [
    "def factorial (n) :\n",
    "    if n ==1 or n ==0 :\n",
    "        return 1\n",
    "    else :\n",
    "        return n*factorial(n-1)\n",
    "\n",
    "x = int(input(\"enter a number \"))\n",
    "result = factorial(x)\n",
    "print (\"the factorial of \" + str(x) + \" : \" + str(result) )\n"
   ]
  },
  {
   "cell_type": "code",
   "execution_count": 42,
   "id": "444d4bbe-5034-464d-a0af-9d0d9a709a95",
   "metadata": {},
   "outputs": [
    {
     "name": "stdout",
     "output_type": "stream",
     "text": [
      "80\n"
     ]
    }
   ],
   "source": [
    "import sys\n",
    "t1 = (\"1\",\"eee\",\"fares\",\"malek\",\"33\")\n",
    "print (sys.getsizeof(t1))"
   ]
  },
  {
   "cell_type": "code",
   "execution_count": 48,
   "id": "c00743db-33a0-4bfc-8fbf-4fa84d64d8a3",
   "metadata": {},
   "outputs": [
    {
     "name": "stdout",
     "output_type": "stream",
     "text": [
      "2\n",
      "4\n",
      "66\n",
      "76\n",
      "798\n"
     ]
    }
   ],
   "source": [
    "l2 = [2,4,-5,66,76,-877,-456,798]\n",
    "for n in l2 :\n",
    "    if n >=0 : \n",
    "        print (n)"
   ]
  },
  {
   "cell_type": "code",
   "execution_count": 59,
   "id": "123a9142-0006-45e9-9560-a0fc2c58ef0a",
   "metadata": {},
   "outputs": [
    {
     "name": "stdout",
     "output_type": "stream",
     "text": [
      "(1, 2, 3, 4)\n"
     ]
    }
   ],
   "source": [
    "def convert (list) :\n",
    "    return (tuple(list))\n",
    "\n",
    "list = [1,2,3,4]\n",
    "print(convert(list))"
   ]
  },
  {
   "cell_type": "code",
   "execution_count": 180,
   "id": "311f9d36-b7a7-4c4d-a51f-d2df4db2646d",
   "metadata": {},
   "outputs": [
    {
     "name": "stdout",
     "output_type": "stream",
     "text": [
      "mooisegyptian\n"
     ]
    }
   ],
   "source": [
    "def conListString(x):\n",
    "    result = \"\"  # Use a different variable name\n",
    "    for ele in x:\n",
    "        result += ele\n",
    "    return result\n",
    "\n",
    "x = ['moo', 'is', 'egyptian']\n",
    "print(conListString(x))  # Print the result to see the output\n"
   ]
  },
  {
   "cell_type": "code",
   "execution_count": 184,
   "id": "f3d19e55-de3c-45bd-9a5c-df009fb62460",
   "metadata": {},
   "outputs": [
    {
     "name": "stdin",
     "output_type": "stream",
     "text": [
      "Enter an integer:  3\n"
     ]
    },
    {
     "name": "stdout",
     "output_type": "stream",
     "text": [
      "Weird\n"
     ]
    }
   ],
   "source": [
    "def classify_number(n):\n",
    "    if n % 2 != 0:\n",
    "        print(\"Weird\")\n",
    "    elif n % 2 == 0:\n",
    "        if 2 <= n <= 5:\n",
    "            print(\"Not Weird\")\n",
    "        elif 6 <= n <= 20:\n",
    "            print(\"Weird\")\n",
    "        elif n > 20:\n",
    "            print(\"Not Weird\")\n",
    "\n",
    "# Example usage\n",
    "n = int(input(\"Enter an integer: \"))\n",
    "classify_number(n)\n"
   ]
  },
  {
   "cell_type": "code",
   "execution_count": 207,
   "id": "848e3e5a-980a-4a7c-b886-1051682cfc00",
   "metadata": {},
   "outputs": [
    {
     "name": "stdin",
     "output_type": "stream",
     "text": [
      " 5\n"
     ]
    },
    {
     "name": "stdout",
     "output_type": "stream",
     "text": [
      "0\n",
      "1\n",
      "4\n",
      "9\n",
      "16\n",
      "25\n"
     ]
    }
   ],
   "source": [
    "if __name__ == '__main__':\n",
    "    n = int(input())\n",
    "    x=0\n",
    "    while x<=n :\n",
    "            print (x**2)\n",
    "            x+=1\n",
    "            "
   ]
  },
  {
   "cell_type": "code",
   "execution_count": 4,
   "id": "51db2383-e13b-40be-85a7-a700b3b3444e",
   "metadata": {},
   "outputs": [
    {
     "name": "stdin",
     "output_type": "stream",
     "text": [
      " 2012\n"
     ]
    },
    {
     "name": "stdout",
     "output_type": "stream",
     "text": [
      "True\n"
     ]
    }
   ],
   "source": [
    "def is_leap(year):\n",
    "    leap = False\n",
    "    \n",
    "    if year % 4 ==0 : \n",
    "        leap = True\n",
    "    if year % 100 ==0 :\n",
    "        if year % 400 ==0:\n",
    "            leap = False\n",
    "    else:\n",
    "        leap = True\n",
    "        \n",
    "        return leap \n",
    "    \n",
    "\n",
    "year = int(input())\n",
    "print(is_leap(year))"
   ]
  },
  {
   "cell_type": "code",
   "execution_count": 13,
   "id": "a1716f3c-fcac-466b-aec3-9112bc04efc1",
   "metadata": {},
   "outputs": [
    {
     "name": "stdin",
     "output_type": "stream",
     "text": [
      " 2100\n"
     ]
    },
    {
     "name": "stdout",
     "output_type": "stream",
     "text": [
      "False\n"
     ]
    }
   ],
   "source": [
    "def is_leap(year):\n",
    "    leap = False\n",
    "    \n",
    "    if year % 400 == 0:\n",
    "        leap = True\n",
    "    elif year % 100 == 0:\n",
    "        leap = False\n",
    "    elif year % 4 == 0:\n",
    "        leap = True\n",
    "\n",
    "    \n",
    "    return leap \n",
    "    \n",
    "\n",
    "year = int(input())\n",
    "print(is_leap(year))"
   ]
  },
  {
   "cell_type": "code",
   "execution_count": 35,
   "id": "851b486d-aff7-4506-8806-3f527de41e03",
   "metadata": {},
   "outputs": [
    {
     "name": "stdout",
     "output_type": "stream",
     "text": [
      "123\n"
     ]
    }
   ],
   "source": [
    "n = 3\n",
    "result = \"\"\n",
    "for x in range(1, n + 1):\n",
    "    result += str(x)\n",
    "print(result)\n"
   ]
  },
  {
   "cell_type": "code",
   "execution_count": 37,
   "id": "fde7ce89-54c1-482e-986d-3f08ea4a53bf",
   "metadata": {},
   "outputs": [
    {
     "name": "stdin",
     "output_type": "stream",
     "text": [
      " 9\n"
     ]
    },
    {
     "name": "stdout",
     "output_type": "stream",
     "text": [
      "123456789"
     ]
    }
   ],
   "source": [
    " n = int(input())\n",
    "\n",
    "for i in range(1,n+1):\n",
    "    print(i, end='')"
   ]
  },
  {
   "cell_type": "code",
   "execution_count": 39,
   "id": "fd1501ca-776b-44b5-9837-27a39e0aa0ba",
   "metadata": {},
   "outputs": [
    {
     "name": "stdin",
     "output_type": "stream",
     "text": [
      " 7\n",
      " 8\n",
      " 8\n",
      " 7\n"
     ]
    },
    {
     "name": "stdout",
     "output_type": "stream",
     "text": [
      "2\n"
     ]
    }
   ],
   "source": [
    "m = int(input())\n",
    "\n",
    "eng_roll = set(input().split())\n",
    "\n",
    "n = int(input())\n",
    "\n",
    "french_roll = set(input().split())\n",
    "\n",
    "print(len(eng_roll.union(french_roll)))\n"
   ]
  },
  {
   "cell_type": "code",
   "execution_count": 57,
   "id": "8f78abf2-5f64-43b7-b27d-e32f7c5bff8e",
   "metadata": {},
   "outputs": [
    {
     "name": "stdin",
     "output_type": "stream",
     "text": [
      " enter a word lplp\n"
     ]
    },
    {
     "name": "stdout",
     "output_type": "stream",
     "text": [
      "plpl\n",
      "\n"
     ]
    }
   ],
   "source": [
    "word = str(input(\" enter a word\"))\n",
    "\n",
    "for i in range(len(word)-1 , -1,-1 ) : \n",
    "    print (word[i] , end=\"\")\n",
    "\n",
    "print(\"\\n\")"
   ]
  },
  {
   "cell_type": "code",
   "execution_count": 63,
   "id": "f1fa5ed9-e7e7-47a5-883e-c858c9f6ef14",
   "metadata": {},
   "outputs": [
    {
     "name": "stdout",
     "output_type": "stream",
     "text": [
      "5\n",
      "5\n"
     ]
    }
   ],
   "source": [
    "list = [1,2,3,4,5,6,7,8,9,150]\n",
    "even = 0\n",
    "odd = 0\n",
    "for i in list :\n",
    "    if i % 2 ==0 :\n",
    "        even+=1\n",
    "    elif i % 2 !=0 :\n",
    "        odd+=1\n",
    "\n",
    "print (even)\n",
    "print (odd)\n",
    "        \n",
    "        "
   ]
  },
  {
   "cell_type": "code",
   "execution_count": 75,
   "id": "ed594d70-57fb-4629-bac2-0c2560d961bf",
   "metadata": {},
   "outputs": [
    {
     "name": "stdout",
     "output_type": "stream",
     "text": [
      "the type of ali <class 'str'>\n",
      "the type of False <class 'bool'>\n",
      "the type of 0 <class 'int'>\n",
      "the type of 1.1 <class 'float'>\n",
      "the type of ['list'] <class 'list'>\n",
      "the type of ('tuple', 'tuple') <class 'tuple'>\n"
     ]
    }
   ],
   "source": [
    "list = [\"ali\", False, 0 , 1.1,[\"list\"] , (\"tuple\",\"tuple\")]\n",
    "for i in list : \n",
    "    print (\"the type of\" , i   ,type(i))"
   ]
  },
  {
   "cell_type": "code",
   "execution_count": 83,
   "id": "ca5beaa1-4475-4ecf-85bf-08e47ac8c547",
   "metadata": {},
   "outputs": [
    {
     "name": "stdout",
     "output_type": "stream",
     "text": [
      "01245"
     ]
    }
   ],
   "source": [
    "for x in range(6+1): \n",
    "    if x==3 or x==6 :\n",
    "        continue\n",
    "\n",
    "    print (x , end='')"
   ]
  },
  {
   "cell_type": "code",
   "execution_count": 139,
   "id": "ab18ae67-c353-4324-8408-3902ab362039",
   "metadata": {},
   "outputs": [
    {
     "name": "stdout",
     "output_type": "stream",
     "text": [
      "1 1 2 3 5 8 13 21 34 "
     ]
    }
   ],
   "source": [
    "\n",
    "x, y = 0, 1\n",
    "while y < 50:  \n",
    "    print(y , end=' ')\n",
    "    x, y = y, x + y\n"
   ]
  },
  {
   "cell_type": "code",
   "execution_count": 155,
   "id": "3c04287a-bc4e-42e9-8788-aab5304bfe6b",
   "metadata": {},
   "outputs": [
    {
     "name": "stdout",
     "output_type": "stream",
     "text": [
      "Fizz\n",
      "1\n",
      "2\n",
      "Fizz\n",
      "4\n",
      "Buzz\n",
      "Fizz\n",
      "7\n",
      "8\n",
      "Fizz\n",
      "Buzz\n",
      "11\n",
      "Fizz\n",
      "13\n",
      "14\n",
      "Fizz\n",
      "16\n",
      "17\n",
      "Fizz\n",
      "19\n",
      "Buzz\n",
      "Fizz\n",
      "22\n",
      "23\n",
      "Fizz\n",
      "Buzz\n",
      "26\n",
      "Fizz\n",
      "28\n",
      "29\n",
      "Fizz\n",
      "31\n",
      "32\n",
      "Fizz\n",
      "34\n",
      "Buzz\n",
      "Fizz\n",
      "37\n",
      "38\n",
      "Fizz\n",
      "Buzz\n",
      "41\n",
      "Fizz\n",
      "43\n",
      "44\n",
      "Fizz\n",
      "46\n",
      "47\n",
      "Fizz\n",
      "49\n"
     ]
    }
   ],
   "source": [
    "for x in range(50):\n",
    "    \n",
    "    if x%3== 0 : \n",
    "        print(\"Fizz\")\n",
    "        continue\n",
    "    elif x%5 == 0 : \n",
    "        print(\"Buzz\")\n",
    "        continue\n",
    "    elif x%3==0 and x%5==0 :\n",
    "        print(\"FizzBuzz\")\n",
    "        continue\n",
    "    print(x)\n",
    "    "
   ]
  },
  {
   "cell_type": "code",
   "execution_count": 32,
   "id": "864efa93-25cc-4866-be55-c8cd659e899b",
   "metadata": {},
   "outputs": [
    {
     "data": {
      "text/plain": [
       "['mohamed', 'ali', 'baraa', 2, 3, 90, 'k']"
      ]
     },
     "execution_count": 32,
     "metadata": {},
     "output_type": "execute_result"
    }
   ],
   "source": [
    "List = ['mohamed','ali','baraa',2,3,90]\n",
    "List.append('k')\n",
    "List"
   ]
  },
  {
   "cell_type": "code",
   "execution_count": 38,
   "id": "d2d3f833-ab21-4440-851a-149dcf3d1fac",
   "metadata": {},
   "outputs": [
    {
     "ename": "TypeError",
     "evalue": "'builtin_function_or_method' object is not iterable",
     "output_type": "error",
     "traceback": [
      "\u001b[0;31m---------------------------------------------------------------------------\u001b[0m",
      "\u001b[0;31mTypeError\u001b[0m                                 Traceback (most recent call last)",
      "Cell \u001b[0;32mIn[38], line 2\u001b[0m\n\u001b[1;32m      1\u001b[0m fav_numbers \u001b[38;5;241m=\u001b[39m {\u001b[38;5;124m'\u001b[39m\u001b[38;5;124meric\u001b[39m\u001b[38;5;124m'\u001b[39m: \u001b[38;5;241m17\u001b[39m, \u001b[38;5;124m'\u001b[39m\u001b[38;5;124mever\u001b[39m\u001b[38;5;124m'\u001b[39m: \u001b[38;5;241m4\u001b[39m}\n\u001b[0;32m----> 2\u001b[0m \u001b[38;5;28;01mfor\u001b[39;00m name \u001b[38;5;129;01min\u001b[39;00m fav_numbers\u001b[38;5;241m.\u001b[39mkeys :\n\u001b[1;32m      3\u001b[0m     \u001b[38;5;28mprint\u001b[39m(name \u001b[38;5;241m+\u001b[39m \u001b[38;5;124m'\u001b[39m\u001b[38;5;124m loves a number\u001b[39m\u001b[38;5;124m'\u001b[39m)\n",
      "\u001b[0;31mTypeError\u001b[0m: 'builtin_function_or_method' object is not iterable"
     ]
    }
   ],
   "source": [
    "fav_numbers = {'eric': 17, 'ever': 4}\n",
    "for name in fav_numbers.keys :\n",
    "    print(name + ' loves a number')"
   ]
  },
  {
   "cell_type": "code",
   "execution_count": 44,
   "id": "9624d296-9e67-4681-9976-1f16a7ac5b61",
   "metadata": {},
   "outputs": [
    {
     "name": "stdin",
     "output_type": "stream",
     "text": [
      "enter your topping :  spice\n"
     ]
    },
    {
     "name": "stdout",
     "output_type": "stream",
     "text": [
      "Have a  spice  on your pizza\n"
     ]
    }
   ],
   "source": [
    "topping = input(\"enter your topping : \")\n",
    "def make_pizza ( topping) :\n",
    "    print('Have a ' , topping , ' on your pizza')\n",
    "\n",
    "make_pizza(topping)\n"
   ]
  },
  {
   "cell_type": "code",
   "execution_count": 52,
   "id": "7cf67e92-8bf6-44ea-8c99-cb0915f0c57c",
   "metadata": {},
   "outputs": [
    {
     "ename": "SyntaxError",
     "evalue": "invalid decimal literal (3331368909.py, line 1)",
     "output_type": "error",
     "traceback": [
      "\u001b[0;36m  Cell \u001b[0;32mIn[52], line 1\u001b[0;36m\u001b[0m\n\u001b[0;31m    1st = int(input('enter first number : '))\u001b[0m\n\u001b[0m    ^\u001b[0m\n\u001b[0;31mSyntaxError\u001b[0m\u001b[0;31m:\u001b[0m invalid decimal literal\n"
     ]
    }
   ],
   "source": []
  },
  {
   "cell_type": "code",
   "execution_count": 14,
   "id": "8a15c61a-a7a8-45b9-93ad-773b5b49aef5",
   "metadata": {},
   "outputs": [
    {
     "name": "stdin",
     "output_type": "stream",
     "text": [
      "enter a list of words  uiop[,llkkjh\n",
      " enter two letters  qazsxcvb,dfgh\n"
     ]
    },
    {
     "ename": "TypeError",
     "evalue": "list() takes no keyword arguments",
     "output_type": "error",
     "traceback": [
      "\u001b[0;31m---------------------------------------------------------------------------\u001b[0m",
      "\u001b[0;31mTypeError\u001b[0m                                 Traceback (most recent call last)",
      "Cell \u001b[0;32mIn[14], line 3\u001b[0m\n\u001b[1;32m      1\u001b[0m word1 \u001b[38;5;241m=\u001b[39m \u001b[38;5;28mlist\u001b[39m(\u001b[38;5;28minput\u001b[39m(\u001b[38;5;124m'\u001b[39m\u001b[38;5;124menter a list of words \u001b[39m\u001b[38;5;124m'\u001b[39m))\n\u001b[1;32m      2\u001b[0m word2 \u001b[38;5;241m=\u001b[39m \u001b[38;5;28mlist\u001b[39m(\u001b[38;5;28minput\u001b[39m(\u001b[38;5;124m'\u001b[39m\u001b[38;5;124m enter two letters \u001b[39m\u001b[38;5;124m'\u001b[39m))\n\u001b[0;32m----> 3\u001b[0m \u001b[38;5;28mprint\u001b[39m(\u001b[38;5;28mlist\u001b[39m(word1 , end\u001b[38;5;241m=\u001b[39m\u001b[38;5;124m'\u001b[39m\u001b[38;5;124m'\u001b[39m))\n\u001b[1;32m      4\u001b[0m \u001b[38;5;28mprint\u001b[39m(\u001b[38;5;28mlist\u001b[39m(word2 , end\u001b[38;5;241m=\u001b[39m\u001b[38;5;124m'\u001b[39m\u001b[38;5;124m'\u001b[39m))\n",
      "\u001b[0;31mTypeError\u001b[0m: list() takes no keyword arguments"
     ]
    }
   ],
   "source": [
    "word1 = list(input('enter a list of words '))\n",
    "word2 = list(input(' enter two letters '))\n",
    "print(word1 , end='')\n",
    "print(word2 , end='')\n",
    "        "
   ]
  },
  {
   "cell_type": "code",
   "execution_count": 17,
   "id": "b80df7d9-6e3a-4dde-8e81-019d3b576f1d",
   "metadata": {},
   "outputs": [
    {
     "name": "stdin",
     "output_type": "stream",
     "text": [
      "enter a word :mo-hamed\n"
     ]
    },
    {
     "data": {
      "text/plain": [
       "'demah-om:'"
      ]
     },
     "execution_count": 17,
     "metadata": {},
     "output_type": "execute_result"
    }
   ],
   "source": [
    "word = str(input(\"enter a word\"))[::-1]\n",
    "def reverse(word) :\n",
    "    return word \n",
    "reverse(word)"
   ]
  },
  {
   "cell_type": "code",
   "execution_count": 21,
   "id": "09bafea5-7d3e-4c3b-bb82-0ac12b1bf5c1",
   "metadata": {},
   "outputs": [
    {
     "ename": "IndentationError",
     "evalue": "expected an indented block after class definition on line 1 (1294906534.py, line 2)",
     "output_type": "error",
     "traceback": [
      "\u001b[0;36m  Cell \u001b[0;32mIn[21], line 2\u001b[0;36m\u001b[0m\n\u001b[0;31m    def reverseOnlyLetters(self, s: str) -> str:\u001b[0m\n\u001b[0m    ^\u001b[0m\n\u001b[0;31mIndentationError\u001b[0m\u001b[0;31m:\u001b[0m expected an indented block after class definition on line 1\n"
     ]
    }
   ],
   "source": [
    "\tclass Solution:\n",
    "def reverseOnlyLetters(self, s: str) -> str:\n",
    "    start,end = 0,len(s)-1\n",
    "    s = list(s)\n",
    "    while (start<end):\n",
    "        if s[start].isalpha() and s[end].isalpha():\n",
    "            s[start],s[end] = s[end],s[start]\n",
    "            start += 1\n",
    "            end -= 1\n",
    "        elif s[start].isalpha() and s[end].isalpha() == False:\n",
    "            end -= 1\n",
    "        elif s[start].isalpha() == False and s[end].isalpha():\n",
    "            start += 1\n",
    "        else:\n",
    "            start += 1\n",
    "            end -= 1\n",
    "    return \"\".join(s)"
   ]
  },
  {
   "cell_type": "code",
   "execution_count": 2,
   "id": "92f08d43-f9ab-46dc-857e-a0d71986d931",
   "metadata": {},
   "outputs": [
    {
     "data": {
      "text/plain": [
       "'mohamed yousry'"
      ]
     },
     "execution_count": 2,
     "metadata": {},
     "output_type": "execute_result"
    }
   ],
   "source": [
    "m = \" mohamed yousry \"\n",
    "m.strip()"
   ]
  },
  {
   "cell_type": "code",
   "execution_count": 19,
   "id": "3351505e-b7af-4ae4-be2f-a994d4a733a4",
   "metadata": {},
   "outputs": [
    {
     "data": {
      "text/plain": [
       "{'name ': 'mohamed', ' age ': '21', 'car': 'ford'}"
      ]
     },
     "execution_count": 19,
     "metadata": {},
     "output_type": "execute_result"
    }
   ],
   "source": [
    "my_info = { \"name \" : \"mohamed\",\n",
    "           \" age \"  : \"21\"\n",
    "}\n",
    "my_info[\"car\"] = \"ford\"\n",
    "my_info\n"
   ]
  },
  {
   "cell_type": "code",
   "execution_count": null,
   "id": "187c6779-e1eb-4b54-be94-a6336d0f8c21",
   "metadata": {},
   "outputs": [],
   "source": []
  },
  {
   "cell_type": "code",
   "execution_count": null,
   "id": "78eb6bcc-10fc-4238-b8ea-a35b4f889414",
   "metadata": {},
   "outputs": [],
   "source": []
  }
 ],
 "metadata": {
  "kernelspec": {
   "display_name": "Python 3 (ipykernel)",
   "language": "python",
   "name": "python3"
  },
  "language_info": {
   "codemirror_mode": {
    "name": "ipython",
    "version": 3
   },
   "file_extension": ".py",
   "mimetype": "text/x-python",
   "name": "python",
   "nbconvert_exporter": "python",
   "pygments_lexer": "ipython3",
   "version": "3.12.4"
  }
 },
 "nbformat": 4,
 "nbformat_minor": 5
}
